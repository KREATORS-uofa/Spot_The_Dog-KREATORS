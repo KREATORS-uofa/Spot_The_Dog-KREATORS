{
  "nbformat": 4,
  "nbformat_minor": 0,
  "metadata": {
    "colab": {
      "provenance": []
    },
    "kernelspec": {
      "name": "python3",
      "display_name": "Python 3"
    },
    "language_info": {
      "name": "python"
    }
  },
  "cells": [
    {
      "cell_type": "markdown",
      "source": [
        "# SpotTheDog Model"
      ],
      "metadata": {
        "id": "kMrkPAoGlAzF"
      }
    },
    {
      "cell_type": "code",
      "execution_count": null,
      "metadata": {
        "id": "Il_JAJLEk05y"
      },
      "outputs": [],
      "source": [
        "import os # for file path\n",
        "import requests # for downloading image from firebase storage url\n",
        "import cv2 # for image\n",
        "import dlib # for predictor and detector\n",
        "import face_recognition # for face encoding and recognizing\n",
        "import firebase_admin # firebase database link\n",
        "from firebase_admin import credentials, initialize_app, storage, firestore"
      ]
    },
    {
      "cell_type": "markdown",
      "source": [
        "# 1. Initialization"
      ],
      "metadata": {
        "id": "KBvah-FRlO7u"
      }
    },
    {
      "cell_type": "code",
      "source": [
        "DATA_PATH = './data/'\n",
        "\n",
        "face_landmark_detector_file = os.path.join(DATA_PATH, 'dogHeadDetector.dat')\n",
        "face_landmark_predictor_file = os.path.join(DATA_PATH, 'landmarkDetector.dat')\n",
        "\n",
        "detector = dlib.cnn_face_detection_model_v1(face_landmark_detector_file)\n",
        "predictor = dlib.shape_predictor(face_landmark_predictor_file)"
      ],
      "metadata": {
        "id": "XEETzXMJk_jB"
      },
      "execution_count": null,
      "outputs": []
    },
    {
      "cell_type": "markdown",
      "source": [
        "### 1.1 Connecting to Database"
      ],
      "metadata": {
        "id": "GRKhexaXpcLI"
      }
    },
    {
      "cell_type": "code",
      "source": [
        "def browse_db(collection_name, documentID, field_name):\n",
        "    \"\"\"\n",
        "        Browse database - \n",
        "            parameter: \n",
        "                collection_name (str):\n",
        "                    collection that the function should get the value of it\n",
        "                field_name (str): \n",
        "                        field name that the function should return the value of it\n",
        "            return: res (list):\n",
        "                    list that field_name contain from database\n",
        "    \"\"\"\n",
        "    # key_path = os.path.join(DATA_PATH, 'spot-the-dog-e68bd-f5c41104fb22.json')\n",
        "    # cred = credentials.Certificate(key_path)  \n",
        "    # firebase_admin.initialize_app(cred)\n",
        "\n",
        "    db = firestore.client()     # connecting to firestore \n",
        "\n",
        "    if collection_name == \"mlCollection\" and documentID == None:\n",
        "        ml_collection = db.collection(collection_name)\n",
        "        res = ml_collection.document('70Ey6ANXgA51mSP7bSe4').get().to_dict()[field_name]\n",
        "    elif collection_name != \"mlCollection\":\n",
        "        collection = db.collection(collection_name).orderBy(\"timestamp\", \"desc\").limit(1).get()\n",
        "        res = collection.document(documentID).to_dict()[field_name]\n",
        "    return res\n",
        "\n",
        "def update_db(collection_name, documentID, field_name, data):\n",
        "    \"\"\"\n",
        "    update database - \n",
        "        parameter: \n",
        "            collection_name (str):\n",
        "                    collection that the function should update the value of it\n",
        "            field_name (str): \n",
        "                    field name that the function should update the value of it\n",
        "            data (str / list):\n",
        "                    data to be updated\n",
        "        return: None\n",
        "    \"\"\"\n",
        "    # key_path = os.path.join(DATA_PATH, 'spot-the-dog-e68bd-f5c41104fb22.json')\n",
        "    # cred = credentials.Certificate(key_path)  \n",
        "    # firebase_admin.initialize_app(cred)\n",
        "    \n",
        "    db = firestore.client()     # connecting to firestore \n",
        "\n",
        "    # if updating 'reporter' database collection\n",
        "    if collection_name == 'reporter' and documentID != None:\n",
        "        reporter_collection = db.collection('reporter')\n",
        "\n",
        "        if field_name == \"face_encoding\" or field_name == \"matched_names\":\n",
        "            res = reporter_collection.document(documentID).get().to_dict()[fieldname]\n",
        "            res.append(data)\n",
        "\n",
        "        res = reporter_collection.document(documentID).update({field_name:res})\n",
        "        \n",
        "    # if updating 'mlCollection' database collection\n",
        "    elif collection_name == 'mlCollection'and documentID == None:\n",
        "        ml_collection = db.collection('mlCollection')\n",
        "        res = ml_collection.document('70Ey6ANXgA51mSP7bSe4').get().to_dict()[field_name]\n",
        "        res.append(data)\n",
        "        res = ml_collection.document('70Ey6ANXgA51mSP7bSe4').update({field_name:res})\n",
        "\n",
        "\n",
        "def read_url_image(url, name):\n",
        "    \"\"\"\n",
        "    Download Image from URL in Database -\n",
        "        parameters:\n",
        "            url:\n",
        "                image URL in Database\n",
        "            name (str):\n",
        "                document ID\n",
        "    \"\"\"\n",
        "    # image url from database\n",
        "    r = requests.get(url=url)\n",
        "\n",
        "    # temporary image save format\n",
        "    TEMPORARY_IMAGE_PATH = \"./img_temp/\"\n",
        "    FILE_NAME = name + \".jpg\"\n",
        "    FILE_PATH = os.path.join(TEMPORARY_IMAGE_PATH, FILE_NAME)\n",
        "\n",
        "    # save temporary image\n",
        "    if r.status_code == 200:\n",
        "        print(\"File Downloaded\")\n",
        "        with open(FILE_PATH, 'wb') as f:\n",
        "            f.write(r.content)\n",
        "            print(\"File Saved\")\n",
        "    else:\n",
        "        raise Exception(\"Something went wrong\")\n",
        "    \n",
        "    # read image using cv2\n",
        "    image = cv2.imread(FILE_PATH)\n",
        "    \n",
        "    # delete image\n",
        "    os.remove(FILE_PATH)\n",
        "    print(\"File Removed\")\n",
        "    \n",
        "    return image"
      ],
      "metadata": {
        "id": "kucHTIELpb59"
      },
      "execution_count": null,
      "outputs": []
    },
    {
      "cell_type": "markdown",
      "source": [
        "# 2. Functions"
      ],
      "metadata": {
        "id": "xoyqFiXilWRp"
      }
    },
    {
      "cell_type": "markdown",
      "source": [
        "## 2.2. <code>face_recognition</code> Function Modifications"
      ],
      "metadata": {
        "id": "144BOf7olgir"
      }
    },
    {
      "cell_type": "code",
      "source": [
        "def _trim_css_to_bounds(css, image_shape):\n",
        "    return max(css[0], 0), min(css[1], image_shape[1]), min(css[2], image_shape[0]), max(css[3], 0)\n",
        "\n",
        "\n",
        "def _rect_to_css(rect):\n",
        "    return rect.top(), rect.right(), rect.bottom(), rect.left()\n",
        "\n",
        "\n",
        "def _raw_face_locations(img, number_of_times_to_upsample=1):\n",
        "    return detector(img, number_of_times_to_upsample)\n",
        "\n",
        "\n",
        "def face_locations(img, number_of_times_to_upsample=1):\n",
        "    return [_trim_css_to_bounds(_rect_to_css(face.rect), img.shape) for face in _raw_face_locations(img, number_of_times_to_upsample)]"
      ],
      "metadata": {
        "id": "p2bPUhupll87"
      },
      "execution_count": null,
      "outputs": []
    },
    {
      "cell_type": "markdown",
      "source": [
        "## 2.3. Main Functions"
      ],
      "metadata": {
        "id": "KdLdhsCjlq0Q"
      }
    },
    {
      "cell_type": "code",
      "source": [
        "def draw_label(input_image, coordinates, label):\n",
        "    labeled_image = input_image.copy()\n",
        "    \n",
        "    (top, right, bottom, left) = coordinates\n",
        "    cv2.rectangle(labeled_image, (left, top), (right, bottom), (0, 255, 0), 5)\n",
        "    cv2.putText(labeled_image, label, (left - 10, top - 10), cv2.FONT_HERSHEY_SIMPLEX, 2, (0, 255, 0), 3)\n",
        "    \n",
        "    return labeled_image\n",
        "\n",
        "\n",
        "def detect_dog_face(input_image):\n",
        "    detected_image = input_image.copy() # generate safe copy\n",
        "    \n",
        "    gray_image = cv2.cvtColor(detected_image, cv2.COLOR_BGR2GRAY) # convert color channel from BGR to gray scale\n",
        "    dets_locations = face_locations(gray_image, 1) # detect faces\n",
        "    \n",
        "    return dets_locations\n",
        "\n",
        "\n",
        "def match_face(face_encoding, registered_face_encodings, registered_face_names, tolerance=0.4):\n",
        "    matched_names = [] # initialization\n",
        "    \n",
        "    matches = face_recognition.compare_faces(registered_face_encodings, face_encoding, tolerance) # list of true or false\n",
        "    # face_distances = face_recognition.face_distance(known_face_encodings, face_encoding)\n",
        "    \n",
        "    index = [i for i, val in enumerate(matches) if val] # find index list where matches are true\n",
        "    matched_names = [registered_face_names[i] for i in index] # find id numbers from index list\n",
        "    \n",
        "    return matched_names"
      ],
      "metadata": {
        "id": "-ZktEmU5l-OX"
      },
      "execution_count": null,
      "outputs": []
    },
    {
      "cell_type": "markdown",
      "source": [
        "# 3. Operation"
      ],
      "metadata": {
        "id": "vbpLdW4oijiI"
      }
    },
    {
      "cell_type": "markdown",
      "source": [
        "## 3.1. Reporter Side"
      ],
      "metadata": {
        "id": "fQtGGOr3yaQx"
      }
    },
    {
      "cell_type": "markdown",
      "source": [
        "### 3.1.1. Inputs from User Prompt"
      ],
      "metadata": {
        "id": "vC3o6aB9ycY8"
      }
    },
    {
      "cell_type": "code",
      "source": [
        "document = {\n",
        "    'did': \"0001\",\n",
        "    'image': \"https://firebasestorage.googleapis.com/v0/b/kreaters-b978a.appspot.com/o/D72-C607-4452-BCF9-B71A4C4554DD.png?alt=media&token=2f23610b-fb92-4670-a727-f11a68a066d8\"\n",
        "}"
      ],
      "metadata": {
        "id": "FnZ4eQbhycIn"
      },
      "execution_count": null,
      "outputs": []
    },
    {
      "cell_type": "code",
      "source": [
        "name = document.get('did')\n",
        "input_image_url = document.get('image')\n",
        "input_image = read_url_image(input_image_url, name)"
      ],
      "metadata": {
        "id": "RchwGHCP5mHn"
      },
      "execution_count": null,
      "outputs": []
    },
    {
      "cell_type": "markdown",
      "source": [
        "### 3.1.2. Get <code>face_encoding</code>"
      ],
      "metadata": {
        "id": "f1KLohRnygxm"
      }
    },
    {
      "cell_type": "code",
      "source": [
        "dets_locations = detect_dog_face(input_image)\n",
        "\n",
        "# filter image with only single dog face\n",
        "if len(dets_locations) == 0:\n",
        "    raise Exception(\"No face has been detected.\")\n",
        "elif len(dets_locations) > 1:\n",
        "    raise Exception(\"More than one face have been detected.\")\n",
        "        \n",
        "face_encoding = face_recognition.face_encodings(input_image, dets_locations)[0] # array"
      ],
      "metadata": {
        "id": "xmktr6sOymZf"
      },
      "execution_count": null,
      "outputs": []
    },
    {
      "cell_type": "markdown",
      "source": [
        "3.1.3. Update Collections in Database"
      ],
      "metadata": {
        "id": "f502NE8tynz9"
      }
    },
    {
      "cell_type": "code",
      "source": [
        "# ML Collection \n",
        "update_db(\"mlCollection\", None, \"reported_face_encodings\", face_encoding)\n",
        "update_db(\"mlCollection\", None, \"reported_face_names\", name)"
      ],
      "metadata": {
        "id": "m0eQXo--yrED"
      },
      "execution_count": null,
      "outputs": []
    },
    {
      "cell_type": "markdown",
      "source": [
        "## 3.2. Owner Side"
      ],
      "metadata": {
        "id": "h4WJYW5kioaX"
      }
    },
    {
      "cell_type": "markdown",
      "source": [
        "### 3.2.1. Inputs from User Prompt"
      ],
      "metadata": {
        "id": "5yfIywRPjVFR"
      }
    },
    {
      "cell_type": "code",
      "source": [
        "document = {\n",
        "    'did': \"0001\",\n",
        "    'image': \"https://firebasestorage.googleapis.com/v0/b/kreaters-b978a.appspot.com/o/D72-C607-4452-BCF9-B71A4C4554DD.png?alt=media&token=2f23610b-fb92-4670-a727-f11a68a066d8\",\n",
        "    'face_encoding': [],\n",
        "    'matched_names': []\n",
        "}"
      ],
      "metadata": {
        "id": "aLn-Ng72isJP"
      },
      "execution_count": null,
      "outputs": []
    },
    {
      "cell_type": "code",
      "source": [
        "name = document.get('did')\n",
        "input_image_url = document.get('image')\n",
        "input_image = read_url_image(input_image_url, name)"
      ],
      "metadata": {
        "id": "tc4e0CNYDs9S"
      },
      "execution_count": null,
      "outputs": []
    },
    {
      "cell_type": "markdown",
      "source": [
        "\n",
        "### 3.2.2. Get <code>face_encoding</code>"
      ],
      "metadata": {
        "id": "k6jKad0QjZxR"
      }
    },
    {
      "cell_type": "code",
      "source": [
        "if len(document.get(\"face_encoding\")) == 0:\n",
        "    # detect dog faces\n",
        "    dets_locations = detect_dog_face(input_image)\n",
        "\n",
        "    # filter image with only single dog face\n",
        "    if len(dets_locations) == 0:\n",
        "        raise Exception(\"No face has been detected.\")\n",
        "    elif len(dets_locations) > 1:\n",
        "        raise Exception(\"More than one face have been detected.\")\n",
        "        \n",
        "face_encoding = face_recognition.face_encodings(input_image, dets_locations)[0] # array"
      ],
      "metadata": {
        "id": "kt-H8iqPjTb8"
      },
      "execution_count": null,
      "outputs": []
    },
    {
      "cell_type": "markdown",
      "source": [
        "### 3.2.3. Browse data from mlCollection"
      ],
      "metadata": {
        "id": "u_DUyxEgXdhb"
      }
    },
    {
      "cell_type": "code",
      "source": [
        "reported_face_encodings = browse_db(\"mlCollection\", None, \"reported_face_encodings\")\n",
        "reported_face_names = browse_db(\"mlCollection\", None, \"reported_face_names\")"
      ],
      "metadata": {
        "id": "7wHX6vSWXh3z"
      },
      "execution_count": null,
      "outputs": []
    },
    {
      "cell_type": "markdown",
      "source": [
        "### 3.2.4. Match Faces"
      ],
      "metadata": {
        "id": "UBH-6880jj-g"
      }
    },
    {
      "cell_type": "code",
      "source": [
        "if len(reported_face_encodings) == 0 or len(reported_face_names) == 0:\n",
        "    raise Exception(\"There is currently no reported image.\")\n",
        "    \n",
        "matched_names = match_face(face_encoding, reported_face_encodings, reported_face_names)"
      ],
      "metadata": {
        "id": "pVMY3hebjxmK"
      },
      "execution_count": null,
      "outputs": []
    },
    {
      "cell_type": "markdown",
      "source": [
        "### 3.2.5. Update Owner Collection"
      ],
      "metadata": {
        "id": "hlGKYokigYuG"
      }
    },
    {
      "cell_type": "code",
      "source": [
        "document['face_encoding'] = face_encoding\n",
        "document['matched_names'] = matched_names"
      ],
      "metadata": {
        "id": "fk2sLExphZrf"
      },
      "execution_count": null,
      "outputs": []
    },
    {
      "cell_type": "code",
      "source": [
        "update_db(\"owner\", document.get(\"name\"), \"face_encoding\", face_encoding)\n",
        "update_db(\"owner\", document.get(\"name\"), \"matched_names\", matched_names)"
      ],
      "metadata": {
        "id": "qGKP_kUJggtQ"
      },
      "execution_count": null,
      "outputs": []
    },
    {
      "cell_type": "markdown",
      "source": [
        "## 3.3. <code>operation_function.py</code>"
      ],
      "metadata": {
        "id": "wrbGcgMFMs98"
      }
    },
    {
      "cell_type": "code",
      "source": [
        "import os\n",
        "import cv2\n",
        "import face_recognition\n",
        "import spot_the_dog_model\n",
        "\n",
        "\n",
        "def reporter(document):\n",
        "    \"\"\"\n",
        "    reporter side call function -\n",
        "        parameters:\n",
        "            document (dict):\n",
        "                meta data followed by {\n",
        "                    'did': id_number,\n",
        "                    'image': image_uri\n",
        "                    }\n",
        "    \n",
        "    This function takes an image from reporter's submission and stor its face encoding to mlCollection.\n",
        "    \"\"\"\n",
        "\n",
        "\n",
        "    \"\"\"Initialization\"\"\"\n",
        "    name = document.get('did') # id\n",
        "    image_url = document.get('image')\n",
        "    input_image = spot_the_dog_model.read_url_image(image_url, name)\n",
        "\n",
        "\n",
        "    \"\"\"Detect Dog Face and Obtain face_encoding\"\"\"\n",
        "    dets_locations = spot_the_dog_model.detect_dog_face(input_image)\n",
        "\n",
        "    # filter image with only single dog face\n",
        "    if len(dets_locations) == 0:\n",
        "        raise Exception(\"No face has been detected.\")\n",
        "    elif len(dets_locations) > 1:\n",
        "        raise Exception(\"More than one face have been detected.\")\n",
        "            \n",
        "    face_encoding = face_recognition.face_encodings(input_image, dets_locations)[0] # face_enconding array\n",
        "\n",
        "\n",
        "    \"\"\"Update mlCollection\"\"\"\n",
        "    # ML Collection \n",
        "    spot_the_dog_model.update_db(\"mlCollection\", None, \"reported_face_encodings\", face_encoding)\n",
        "    spot_the_dog_model.update_db(\"mlCollection\", None, \"reported_face_names\", name)\n",
        "\n",
        "\n",
        "def owner(document):\n",
        "    \"\"\"\n",
        "    owner side call function - \n",
        "        parameters:\n",
        "            document (dict):\n",
        "                meta data followed by {\n",
        "                    'did': id_number,\n",
        "                    'image': image_uri,\n",
        "                    'face_encoding': np.array,\n",
        "                    'matched_names': string_list\n",
        "                    }\n",
        "\n",
        "    This function takes an image from owner's submission and find similar dogs from mlCollections.\n",
        "    \"\"\"\n",
        "\n",
        "\n",
        "    \"\"\"Initialization\"\"\"\n",
        "    name = document.get('did') # id\n",
        "    image_url = document.get('image')\n",
        "    input_image = spot_the_dog_model.read_url_image(image_url, name)\n",
        "\n",
        "\n",
        "    \"\"\"Detect Dog Face and Obtain face_encoding\"\"\"\n",
        "    if len(document.get(\"face_encoding\")) == 0: # check if the document has face_encoding already\n",
        "        # detect dog faces\n",
        "        dets_locations = spot_the_dog_model.detect_dog_face(input_image)\n",
        "\n",
        "        # filter image with only single dog face\n",
        "        if len(dets_locations) == 0:\n",
        "            raise Exception(\"No face has been detected.\")\n",
        "        elif len(dets_locations) > 1:\n",
        "            raise Exception(\"More than one face have been detected.\")\n",
        "            \n",
        "    face_encoding = face_recognition.face_encodings(input_image, dets_locations)[0] # face_enconding array\n",
        "\n",
        "    \"\"\"Browse Data From mlCollection\"\"\"\n",
        "    reported_face_encodings = spot_the_dog_model.browse_db(\"mlCollection\", None, \"reported_face_encodings\")\n",
        "    reported_face_names = spot_the_dog_model.browse_db(\"mlCollection\", None, \"reported_face_names\")\n",
        "\n",
        "\n",
        "    \"\"\"Match Faces\"\"\"\n",
        "    if len(reported_face_encodings) == 0 or len(reported_face_names) == 0: # check if there is no reported dog\n",
        "        raise Exception(\"There is currently no reported image.\")\n",
        "    \n",
        "    matched_names = spot_the_dog_model.match_face(face_encoding, reported_face_encodings, reported_face_names)\n",
        "\n",
        "\n",
        "    \"\"\"Update ownerCollection\"\"\"\n",
        "    spot_the_dog_model.update_db(\"owner\", document.get(\"did\"), \"face_encoding\", face_encoding)\n",
        "    spot_the_dog_model.update_db(\"owner\", document.get(\"did\"), \"matched_names\", matched_names)"
      ],
      "metadata": {
        "id": "OhSf_Q9qMzw8"
      },
      "execution_count": null,
      "outputs": []
    },
    {
      "cell_type": "markdown",
      "source": [
        "# 4. References"
      ],
      "metadata": {
        "id": "9loqCvp2oFB8"
      }
    }
  ]
}